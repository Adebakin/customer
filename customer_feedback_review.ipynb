{
 "cells": [
  {
   "cell_type": "code",
   "execution_count": 2,
   "id": "b381f890",
   "metadata": {},
   "outputs": [],
   "source": [
    "from bs4 import BeautifulSoup as bs\n",
    "import requests as re\n",
    "import pandas as pd\n",
    "import numpy as np\n"
   ]
  },
  {
   "cell_type": "markdown",
   "id": "899af679",
   "metadata": {},
   "source": [
    "### scraping the site "
   ]
  },
  {
   "cell_type": "code",
   "execution_count": 3,
   "id": "e7357291",
   "metadata": {},
   "outputs": [],
   "source": [
    "url = { }\n",
    "url['page1'] = 'https://www.airlinequality.com/airline-reviews/british-airways/?sortby=post_date%3ADesc&pagesize=100'"
   ]
  },
  {
   "cell_type": "code",
   "execution_count": 7,
   "id": "c9266100",
   "metadata": {},
   "outputs": [
    {
     "name": "stdout",
     "output_type": "stream",
     "text": [
      "dict_keys(['page1', 'page2', 'page3', 'page4', 'page5', 'page6', 'page7', 'page8', 'page9', 'page10', 'page11', 'page12', 'page13', 'page14', 'page15', 'page16', 'page17', 'page18', 'page19', 'page20', 'page21', 'page22', 'page23', 'page24', 'page25', 'page26', 'page27', 'page28', 'page29', 'page30', 'page31', 'page32', 'page33', 'page34', 'page35', 'page36', 'page37'])\n"
     ]
    }
   ],
   "source": [
    "for no in range(2,38):\n",
    "    url[f'page{no}'] = f'https://www.airlinequality.com/airline-reviews/british-airways/page/{no}/?sortby=post_date%3ADesc&pagesize=100'\n",
    "print(url.keys())"
   ]
  }
 ],
 "metadata": {
  "kernelspec": {
   "display_name": "Python 3 (ipykernel)",
   "language": "python",
   "name": "python3"
  },
  "language_info": {
   "codemirror_mode": {
    "name": "ipython",
    "version": 3
   },
   "file_extension": ".py",
   "mimetype": "text/x-python",
   "name": "python",
   "nbconvert_exporter": "python",
   "pygments_lexer": "ipython3",
   "version": "3.11.5"
  }
 },
 "nbformat": 4,
 "nbformat_minor": 5
}
