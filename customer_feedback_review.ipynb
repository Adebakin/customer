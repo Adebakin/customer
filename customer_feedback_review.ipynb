{
 "cells": [
  {
   "cell_type": "code",
   "execution_count": 1,
   "id": "b381f890",
   "metadata": {},
   "outputs": [],
   "source": [
    "from bs4 import BeautifulSoup as bs\n",
    "import requests as re\n",
    "import pandas as pd\n",
    "import numpy as np\n",
    "import os"
   ]
  },
  {
   "cell_type": "markdown",
   "id": "e7614b73",
   "metadata": {},
   "source": [
    "### scraping the site "
   ]
  },
  {
   "cell_type": "code",
   "execution_count": 14,
   "id": "c55b0ae6",
   "metadata": {},
   "outputs": [],
   "source": [
    "urls = { }\n",
    "urls['page1'] = 'https://www.airlinequality.com/airline-reviews/british-airways/?sortby=post_date%3ADesc&pagesize=100'"
   ]
  },
  {
   "cell_type": "code",
   "execution_count": 40,
   "id": "24184c21",
   "metadata": {},
   "outputs": [
    {
     "name": "stdout",
     "output_type": "stream",
     "text": [
      "dict_keys(['page1', 'page2', 'page3', 'page4', 'page5', 'page6', 'page7', 'page8', 'page9', 'page10', 'page11', 'page12', 'page13', 'page14', 'page15', 'page16', 'page17', 'page18', 'page19', 'page20', 'page21', 'page22', 'page23', 'page24', 'page25', 'page26', 'page27', 'page28', 'page29', 'page30', 'page31', 'page32', 'page33', 'page34', 'page35', 'page36', 'page37'])\n"
     ]
    }
   ],
   "source": [
    "for no in range(2,38):\n",
    "    urls[f'page{no}'] = f'https://www.airlinequality.com/airline-reviews/british-airways/page/{no}/?sortby=post_date%3ADesc&pagesize=100'\n",
    "print(urls.keys())"
   ]
  },
  {
   "cell_type": "markdown",
   "id": "6f45f6bf",
   "metadata": {},
   "source": [
    "### downloading the contents of the site and saving it in pages folder"
   ]
  },
  {
   "cell_type": "code",
   "execution_count": 145,
   "id": "0b4e2913",
   "metadata": {},
   "outputs": [],
   "source": [
    "expected_response_if_success = '<Response [200]>'\n",
    "header = {'user-agent' : 'OpenGraph Extractor(dayo.ayub@gmail.com)'}\n",
    "no = 1\n",
    "for url in urls.values():\n",
    "    response = re.get(url,header)\n",
    "    with open(f'C:/Users/Adebakin/Desktop/british_airways/pages/page{no}', mode= 'wb') as file:\n",
    "        file.write(response.content)\n",
    "    no += 1\n",
    "    if str(response) != expected_response_if_success:\n",
    "        print(response)"
   ]
  },
  {
   "cell_type": "code",
   "execution_count": null,
   "id": "16aa09c1",
   "metadata": {},
   "outputs": [],
   "source": [
    "response.content"
   ]
  },
  {
   "cell_type": "markdown",
   "id": "f45271ff",
   "metadata": {},
   "source": [
    "### making the soup"
   ]
  },
  {
   "cell_type": "code",
   "execution_count": 2,
   "id": "740dc505",
   "metadata": {},
   "outputs": [],
   "source": [
    "folder = 'pages'\n",
    "for page in os.listdir(folder):\n",
    "    with open(os.path.join(folder,page), encoding='utf-8') as file:\n",
    "        soup = bs(file, 'lxml')\n",
    "        break"
   ]
  },
  {
   "cell_type": "code",
   "execution_count": 11,
   "id": "60562ea3",
   "metadata": {},
   "outputs": [
    {
     "data": {
      "text/plain": [
       "2"
      ]
     },
     "execution_count": 11,
     "metadata": {},
     "output_type": "execute_result"
    }
   ],
   "source": [
    "#getting the rating given by each passenger\n",
    "int(soup.find('div', itemprop=\"reviewRating\").find('span',itemprop=\"ratingValue\").contents[0])"
   ]
  },
  {
   "cell_type": "code",
   "execution_count": 39,
   "id": "b04c79d6",
   "metadata": {},
   "outputs": [
    {
     "data": {
      "text/plain": [
       "'A380'"
      ]
     },
     "execution_count": 39,
     "metadata": {},
     "output_type": "execute_result"
    }
   ],
   "source": [
    "#extracting name of flight\n",
    "soup.find('div', class_=\"review-stats\").find('table').find_all('td', class_=\"review-value\")[0].contents[0]"
   ]
  },
  {
   "cell_type": "code",
   "execution_count": 41,
   "id": "0420cbbe",
   "metadata": {},
   "outputs": [
    {
     "data": {
      "text/plain": [
       "'Couple Leisure'"
      ]
     },
     "execution_count": 41,
     "metadata": {},
     "output_type": "execute_result"
    }
   ],
   "source": [
    "# extracting traveller type\n",
    "soup.find('div', class_=\"review-stats\").find('table').find_all('td', class_=\"review-value\")[1].contents[0]"
   ]
  },
  {
   "cell_type": "code",
   "execution_count": 42,
   "id": "980d7b94",
   "metadata": {},
   "outputs": [
    {
     "data": {
      "text/plain": [
       "'Economy Class'"
      ]
     },
     "execution_count": 42,
     "metadata": {},
     "output_type": "execute_result"
    }
   ],
   "source": [
    "#extracting seet type\n",
    "soup.find('div', class_=\"review-stats\").find('table').find_all('td', class_=\"review-value\")[2].contents[0]"
   ]
  },
  {
   "cell_type": "code",
   "execution_count": 43,
   "id": "d5d1becc",
   "metadata": {},
   "outputs": [
    {
     "data": {
      "text/plain": [
       "'Chicago to Manchester via Heathrow'"
      ]
     },
     "execution_count": 43,
     "metadata": {},
     "output_type": "execute_result"
    }
   ],
   "source": [
    "# extracting route\n",
    "soup.find('div', class_=\"review-stats\").find('table').find_all('td', class_=\"review-value\")[3].contents[0]"
   ]
  },
  {
   "cell_type": "code",
   "execution_count": 45,
   "id": "518267e6",
   "metadata": {},
   "outputs": [
    {
     "data": {
      "text/plain": [
       "'October 2023'"
      ]
     },
     "execution_count": 45,
     "metadata": {},
     "output_type": "execute_result"
    }
   ],
   "source": [
    "# extracting Date flown\n",
    "soup.find('div', class_=\"review-stats\").find('table').find_all('td', class_=\"review-value\")[4].contents[0]"
   ]
  },
  {
   "cell_type": "code",
   "execution_count": 49,
   "id": "d36b8397",
   "metadata": {},
   "outputs": [
    {
     "data": {
      "text/plain": [
       "'no'"
      ]
     },
     "execution_count": 49,
     "metadata": {},
     "output_type": "execute_result"
    }
   ],
   "source": [
    "# extracting response to 'if passenger will recomend flight'\n",
    "soup.find('div', class_=\"review-stats\").find('table').find_all('td', class_=\"review-value\")[5].contents[0]"
   ]
  },
  {
   "cell_type": "code",
   "execution_count": 59,
   "id": "d31e9f22",
   "metadata": {},
   "outputs": [
    {
     "data": {
      "text/plain": [
       "1"
      ]
     },
     "execution_count": 59,
     "metadata": {},
     "output_type": "execute_result"
    }
   ],
   "source": [
    "# food and bevrages\n",
    "int(soup.find('div', class_=\"review-stats\").find('table').find_all('span', class_=\"star fill\")[0].contents[0])"
   ]
  },
  {
   "cell_type": "code",
   "execution_count": 60,
   "id": "45e8e1ec",
   "metadata": {},
   "outputs": [
    {
     "data": {
      "text/plain": [
       "2"
      ]
     },
     "execution_count": 60,
     "metadata": {},
     "output_type": "execute_result"
    }
   ],
   "source": [
    "#cabin staff service\n",
    "int(soup.find('div', class_=\"review-stats\").find('table').find_all('span', class_=\"star fill\")[1].contents[0])"
   ]
  },
  {
   "cell_type": "code",
   "execution_count": 61,
   "id": "bf1fb3d2",
   "metadata": {},
   "outputs": [
    {
     "data": {
      "text/plain": [
       "1"
      ]
     },
     "execution_count": 61,
     "metadata": {},
     "output_type": "execute_result"
    }
   ],
   "source": [
    "#food and beverages\n",
    "int(soup.find('div', class_=\"review-stats\").find('table').find_all('span', class_=\"star fill\")[2].contents[0])"
   ]
  },
  {
   "cell_type": "code",
   "execution_count": 62,
   "id": "93a56a23",
   "metadata": {},
   "outputs": [
    {
     "data": {
      "text/plain": [
       "2"
      ]
     },
     "execution_count": 62,
     "metadata": {},
     "output_type": "execute_result"
    }
   ],
   "source": [
    "# inflight entertainment\n",
    "int(soup.find('div', class_=\"review-stats\").find('table').find_all('span', class_=\"star fill\")[3].contents[0])"
   ]
  },
  {
   "cell_type": "code",
   "execution_count": 63,
   "id": "b3b93f56",
   "metadata": {},
   "outputs": [
    {
     "data": {
      "text/plain": [
       "3"
      ]
     },
     "execution_count": 63,
     "metadata": {},
     "output_type": "execute_result"
    }
   ],
   "source": [
    "#ground service\n",
    "int(soup.find('div', class_=\"review-stats\").find('table').find_all('span', class_=\"star fill\")[4].contents[0])"
   ]
  },
  {
   "cell_type": "code",
   "execution_count": 64,
   "id": "f974b840",
   "metadata": {},
   "outputs": [
    {
     "data": {
      "text/plain": [
       "1"
      ]
     },
     "execution_count": 64,
     "metadata": {},
     "output_type": "execute_result"
    }
   ],
   "source": [
    "# wifi and conectivity\n",
    "int(soup.find('div', class_=\"review-stats\").find('table').find_all('span', class_=\"star fill\")[5].contents[0])"
   ]
  },
  {
   "cell_type": "code",
   "execution_count": 65,
   "id": "79727ca6",
   "metadata": {},
   "outputs": [
    {
     "data": {
      "text/plain": [
       "1"
      ]
     },
     "execution_count": 65,
     "metadata": {},
     "output_type": "execute_result"
    }
   ],
   "source": [
    "# value for money\n",
    "int(soup.find('div', class_=\"review-stats\").find('table').find_all('span', class_=\"star fill\")[6].contents[0])"
   ]
  },
  {
   "cell_type": "code",
   "execution_count": 66,
   "id": "f20757ea",
   "metadata": {},
   "outputs": [
    {
     "data": {
      "text/plain": [
       "2"
      ]
     },
     "execution_count": 66,
     "metadata": {},
     "output_type": "execute_result"
    }
   ],
   "source": [
    "int(soup.find('div', class_=\"review-stats\").find('table').find_all('span', class_=\"star fill\")[7].contents[0])"
   ]
  },
  {
   "cell_type": "code",
   "execution_count": 67,
   "id": "1feba9e8",
   "metadata": {},
   "outputs": [
    {
     "data": {
      "text/plain": [
       "1"
      ]
     },
     "execution_count": 67,
     "metadata": {},
     "output_type": "execute_result"
    }
   ],
   "source": [
    "int(soup.find('div', class_=\"review-stats\").find('table').find_all('span', class_=\"star fill\")[8].contents[0])"
   ]
  },
  {
   "cell_type": "code",
   "execution_count": 68,
   "id": "7cc5b3de",
   "metadata": {},
   "outputs": [
    {
     "data": {
      "text/plain": [
       "2"
      ]
     },
     "execution_count": 68,
     "metadata": {},
     "output_type": "execute_result"
    }
   ],
   "source": [
    "int(soup.find('div', class_=\"review-stats\").find('table').find_all('span', class_=\"star fill\")[9].contents[0])"
   ]
  },
  {
   "cell_type": "code",
   "execution_count": 75,
   "id": "e2801dca",
   "metadata": {},
   "outputs": [
    {
     "data": {
      "text/plain": [
       "[<span class=\"star fill\">1</span>,\n",
       " <span class=\"star fill\">2</span>,\n",
       " <span class=\"star fill\">1</span>,\n",
       " <span class=\"star fill\">2</span>,\n",
       " <span class=\"star fill\">3</span>,\n",
       " <span class=\"star fill\">1</span>,\n",
       " <span class=\"star fill\">1</span>,\n",
       " <span class=\"star fill\">2</span>,\n",
       " <span class=\"star fill\">1</span>,\n",
       " <span class=\"star fill\">2</span>]"
      ]
     },
     "execution_count": 75,
     "metadata": {},
     "output_type": "execute_result"
    }
   ],
   "source": [
    "soup.find('div', class_=\"review-stats\").find('table').find_all('span', class_=\"star fill\")\n",
    "    "
   ]
  },
  {
   "cell_type": "code",
   "execution_count": 113,
   "id": "d7446597",
   "metadata": {},
   "outputs": [
    {
     "name": "stdout",
     "output_type": "stream",
     "text": [
      "5\n"
     ]
    }
   ],
   "source": [
    "if soup.find('table',class_=\"review-ratings\").find('td', class_=\"review-rating-header food-beverages\").contents[0] == 'Food & Beverages':\n",
    "    print(soup.find('table').find('td', class_=\"review-rating-stars stars\").find_all('span')[-1].contents[0])"
   ]
  },
  {
   "cell_type": "code",
   "execution_count": 114,
   "id": "c82341d6",
   "metadata": {},
   "outputs": [
    {
     "data": {
      "text/plain": [
       "'Inflight Entertainment'"
      ]
     },
     "execution_count": 114,
     "metadata": {},
     "output_type": "execute_result"
    }
   ],
   "source": [
    "soup.find('table',class_=\"review-ratings\").find('td', class_=\"review-rating-header inflight-entertainment\").contents[0]"
   ]
  },
  {
   "cell_type": "code",
   "execution_count": 115,
   "id": "82982401",
   "metadata": {},
   "outputs": [
    {
     "name": "stdout",
     "output_type": "stream",
     "text": [
      "5\n"
     ]
    }
   ],
   "source": [
    "if soup.find('table',class_=\"review-ratings\").find('td', class_=\"review-rating-header inflight-entertainment\").contents[0] == 'Inflight Entertainment':\n",
    "    print(soup.find('table').find('td', class_=\"review-rating-stars stars\").find_all('span')[-1].contents[0])"
   ]
  },
  {
   "cell_type": "code",
   "execution_count": 117,
   "id": "345ef755",
   "metadata": {},
   "outputs": [
    {
     "data": {
      "text/plain": [
       "'Seat Comfort'"
      ]
     },
     "execution_count": 117,
     "metadata": {},
     "output_type": "execute_result"
    }
   ],
   "source": [
    "soup.find('table',class_=\"review-ratings\").find('td', class_=\"review-rating-header seat-comfort\").contents[0]"
   ]
  },
  {
   "cell_type": "code",
   "execution_count": 118,
   "id": "f01021da",
   "metadata": {},
   "outputs": [
    {
     "name": "stdout",
     "output_type": "stream",
     "text": [
      "5\n"
     ]
    }
   ],
   "source": [
    "if soup.find('table',class_=\"review-ratings\").find('td', class_=\"review-rating-header seat-comfort\").contents[0] == 'Seat Comfort':\n",
    "    print(soup.find('table').find('td', class_=\"review-rating-stars stars\").find_all('span')[-1].contents[0])"
   ]
  },
  {
   "cell_type": "code",
   "execution_count": 120,
   "id": "6a6bd294",
   "metadata": {},
   "outputs": [
    {
     "data": {
      "text/plain": [
       "'Staff Service'"
      ]
     },
     "execution_count": 120,
     "metadata": {},
     "output_type": "execute_result"
    }
   ],
   "source": [
    "soup.find('table',class_=\"review-ratings\").find('td', class_=\"review-rating-header staff-service\").contents[0]"
   ]
  },
  {
   "cell_type": "code",
   "execution_count": 121,
   "id": "3881693e",
   "metadata": {},
   "outputs": [
    {
     "name": "stdout",
     "output_type": "stream",
     "text": [
      "5\n"
     ]
    }
   ],
   "source": [
    "if soup.find('table',class_=\"review-ratings\").find('td', class_=\"review-rating-header staff-service\").contents[0] == 'Staff Service':\n",
    "    print(soup.find('table').find('td', class_=\"review-rating-stars stars\").find_all('span')[-1].contents[0])"
   ]
  },
  {
   "cell_type": "code",
   "execution_count": 123,
   "id": "6b2712ad",
   "metadata": {},
   "outputs": [
    {
     "data": {
      "text/plain": [
       "'Value for Money'"
      ]
     },
     "execution_count": 123,
     "metadata": {},
     "output_type": "execute_result"
    }
   ],
   "source": [
    "soup.find('table',class_=\"review-ratings\").find('td', class_=\"review-rating-header value-for-money\").contents[0]"
   ]
  },
  {
   "cell_type": "code",
   "execution_count": 125,
   "id": "76c0fa85",
   "metadata": {},
   "outputs": [
    {
     "name": "stdout",
     "output_type": "stream",
     "text": [
      "5\n"
     ]
    }
   ],
   "source": [
    "if soup.find('table',class_=\"review-ratings\").find('td', class_=\"review-rating-header value-for-money\").contents[0] == 'Value for Money':\n",
    "    print(soup.find('table').find('td', class_=\"review-rating-stars stars\").find_all('span')[-1].contents[0])"
   ]
  },
  {
   "cell_type": "code",
   "execution_count": null,
   "id": "00b418bf",
   "metadata": {},
   "outputs": [],
   "source": []
  }
 ],
 "metadata": {
  "kernelspec": {
   "display_name": "Python 3 (ipykernel)",
   "language": "python",
   "name": "python3"
  },
  "language_info": {
   "codemirror_mode": {
    "name": "ipython",
    "version": 3
   },
   "file_extension": ".py",
   "mimetype": "text/x-python",
   "name": "python",
   "nbconvert_exporter": "python",
   "pygments_lexer": "ipython3",
   "version": "3.11.5"
  }
 },
 "nbformat": 4,
 "nbformat_minor": 5
}
